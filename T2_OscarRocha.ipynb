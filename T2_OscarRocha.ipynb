{
 "cells": [
  {
   "cell_type": "markdown",
   "id": "18facd32",
   "metadata": {},
   "source": [
    "# AMAZON MLOps\n",
    "\n",
    "https://aws.amazon.com/es/what-is/mlops/"
   ]
  },
  {
   "cell_type": "markdown",
   "id": "63fd6539",
   "metadata": {},
   "source": [
    "# ¿Qué son las MLOps?"
   ]
  },
  {
   "cell_type": "markdown",
   "id": "4ba187bb",
   "metadata": {},
   "source": [
    "Son un conjunto de prácticas que automatizan y simplifican los flujos de trabajo y los despliegues de machine learning. El machine learning y la inteligencia artificial son capacidades fundamentales que puede desplegar para resolver problemas complejos del mundo real. Los procesos incluyen el desarrollo de modelos, las pruebas, la integración, el lanzamiento y la administración de la infraestructura."
   ]
  },
  {
   "cell_type": "markdown",
   "id": "410d828f",
   "metadata": {},
   "source": [
    "# ¿Por qué se necesitan las MLOps?\n"
   ]
  },
  {
   "cell_type": "markdown",
   "id": "cdae4692",
   "metadata": {},
   "source": [
    "Es fundamental para administrar de forma sistemática y simultánea el lanzamiento de nuevos modelos de ML con cambios en el código de la aplicación y los datos. Una implementación óptima de MLOps trata los activos de ML de manera similar a otros activos de software de entornos de integración y entrega continuas. Se mantiene un proceso de preparacion de datos, entrenamiento del modelo y el analisis exploratorio para lograr esto."
   ]
  },
  {
   "cell_type": "markdown",
   "id": "7681d3d7",
   "metadata": {},
   "source": [
    "# ¿Cuáles son los principios de las MLOps?"
   ]
  },
  {
   "cell_type": "markdown",
   "id": "6481701b",
   "metadata": {},
   "source": [
    "Son cuatro:\n",
    "\n",
    "- Control de versiones: Es el seguimiento de los cambios en machine learning para replicar resultados y usar versiones anteriores. Dentro de cada version se controla el codigo de entranmiento y los modelos. \n",
    "\n",
    "- Automation: Se automatizan diversas etapas del ML para garantizar repetibilidad, coherencia y escalabilidad. Las pruebas atuomatizadas permiten descubrir problemas o errores de forma rapida.\n",
    "\n",
    "- Actividades continuas: Se refiere a cuatro actividades que se mantienen al hacer cualquier cambio en el sistema:\n",
    "    - La **integración continua** extiende la validación y las pruebas del código a los datos y los modelos en la canalización.\n",
    "    - La **entrega continua** implementa automáticamente el modelo recién entrenado o el servicio de predicción con modelo.\n",
    "    - El **entrenamiento continuo** vuelve a entrenar automáticamente los modelos de ML para volver a implementarlos.\n",
    "    - El **monitoreo continuo** se refiere al monitoreo de datos y al monitoreo de modelos utilizando métricas relacionadas con la empresa.\n",
    "\n",
    "\n",
    "- Gobernanza de los modelos: Esto implica administrar todos los aspectos relacionados con los sistemas de ML, realizando actividades para encargarse de esto:\n",
    "    - Fomente una estrecha colaboración entre los científicos de datos, los ingenieros y las partes interesadas de la empresa\n",
    "    - Utilice documentación clara y canales de comunicación efectivos para asegurarse de que todos estén al tanto y de acuerdo con los planes\n",
    "    - Establezca mecanismos para recopilar comentarios sobre las predicciones de los modelos y entrenarlos aún más\n",
    "    - Asegúrese de que los datos confidenciales estén protegidos, que el acceso a los modelos y la infraestructura sea seguro, y que se cumplan los requisitos de conformidad\n"
   ]
  },
  {
   "cell_type": "markdown",
   "id": "86d9d0dc",
   "metadata": {},
   "source": [
    "# ¿Qué beneficios aportan las MLOps?"
   ]
  },
  {
   "cell_type": "markdown",
   "id": "8bd83890",
   "metadata": {},
   "source": [
    "El machine learning ayuda a las organizaciones a analizar los datos y obtener información para tomar decisiones. El problemaes que al ser nuevo, la proteccion de datos, los presupuestos, el personal y la tecnologia.\n",
    "Las MLOps aumentan la productividad y aceleran los modelos de ML. Mejoran la resolucion de problemas y la administracion de modelos en produccion."
   ]
  },
  {
   "cell_type": "markdown",
   "id": "a296be7e",
   "metadata": {},
   "source": [
    "# ¿Cómo se implementan las MLOps en la organización?"
   ]
  },
  {
   "cell_type": "markdown",
   "id": "ec45eff9",
   "metadata": {},
   "source": [
    "Se separan en tres niveles de implementacion:\n",
    "\n",
    "Nivel 0: Son organizaciones que recien comienzan a usar sistemas de ML de manera manual y dirigidos por cientificos de datos. Requiere una transición manual entre los pasos, y cada paso se ejecuta y administra de forma interactiva\n",
    "\n",
    "\n",
    "Nivel 1: Son las organizaciones que desean entrenar los mismos modelos con datos nuevos. Aqui tiene como finalidad entrenar el modelo de manera continua automatizando el ML. Las diferencias con el nivel 0 son, la automatizacion, el entrenamiento continuo con datos nuevos y su implementacion en desarrollo, preproduccion y produccion.\n",
    "\n",
    "Nivel 2: Este es para las organizaciones que desean experimentar con frecuencia modelos nuevos que necesiten entrenamiento continuo. Es bueno para empresas con buena tecnologia que logran actualizar sus modelos de manera rapida, al mismo tiempo logrando implementarlos en muchos procesos a la vez."
   ]
  },
  {
   "cell_type": "markdown",
   "id": "95907ef7",
   "metadata": {},
   "source": [
    "# ¿En qué se diferencian las MLOps de las DevOps?"
   ]
  },
  {
   "cell_type": "markdown",
   "id": "bc02a778",
   "metadata": {},
   "source": [
    "Ambas tienen como finalidad mejorar procesos en los que se desarrollan, implementan y monitorean las aplicaciones.\n",
    "Las MLOps son más un conjunto de practicas recomendadas que se establecen para proyectos de ML. Implica la recopilacion de datos, el entrenamiento de modelos, la validacion, implementacion, monitoreo y reentramiento.\n",
    "Las DevOps tienen como objetivo unir el desarrollo y operaciones. Garantiza que los cambios en el codigo se prueben, integren e implementen de manera automatica en la produccion de manera eficiente y confiable. Permite acelerar los ciclos de lanzamiento, mejorar la calidad y usar mejor los recursos."
   ]
  }
 ],
 "metadata": {
  "language_info": {
   "name": "python"
  }
 },
 "nbformat": 4,
 "nbformat_minor": 5
}
